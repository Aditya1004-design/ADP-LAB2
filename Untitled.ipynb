{
 "cells": [
  {
   "cell_type": "code",
   "execution_count": 1,
   "id": "ffb43040-7573-436d-b67b-8c2d3ce2e47a",
   "metadata": {},
   "outputs": [
    {
     "ename": "NameError",
     "evalue": "name 'fm6dn8traveyeyd' is not defined",
     "output_type": "error",
     "traceback": [
      "\u001b[0;31m---------------------------------------------------------------------------\u001b[0m",
      "\u001b[0;31mNameError\u001b[0m                                 Traceback (most recent call last)",
      "Cell \u001b[0;32mIn[1], line 1\u001b[0m\n\u001b[0;32m----> 1\u001b[0m \u001b[43mfm6dn8traveyeyd\u001b[49m\n",
      "\u001b[0;31mNameError\u001b[0m: name 'fm6dn8traveyeyd' is not defined"
     ]
    }
   ],
   "source": [
    "fm6dn8traveyeyd"
   ]
  },
  {
   "cell_type": "code",
   "execution_count": 2,
   "id": "bb23d10d-5724-4eeb-ac30-c38290c071e8",
   "metadata": {},
   "outputs": [
    {
     "name": "stdout",
     "output_type": "stream",
     "text": [
      "11\n"
     ]
    }
   ],
   "source": [
    "print(len(\"Hello World\"))"
   ]
  },
  {
   "cell_type": "code",
   "execution_count": 3,
   "id": "df896be7-a79f-42a5-a6d4-83ed3a6cb117",
   "metadata": {},
   "outputs": [
    {
     "name": "stdout",
     "output_type": "stream",
     "text": [
      "30\n"
     ]
    }
   ],
   "source": [
    "a = 10\n",
    "b = 20\n",
    "print(a + b)"
   ]
  },
  {
   "cell_type": "code",
   "execution_count": 5,
   "id": "91a33ca3-aef4-47a7-aab1-36ffee4b2183",
   "metadata": {},
   "outputs": [
    {
     "name": "stdout",
     "output_type": "stream",
     "text": [
      "42\n"
     ]
    }
   ],
   "source": [
    "a=6\n",
    "b = 7\n",
    "print(a * b)"
   ]
  },
  {
   "cell_type": "code",
   "execution_count": 7,
   "id": "4b0f9f19-1982-4e3c-9c74-cf18abafdb9e",
   "metadata": {},
   "outputs": [
    {
     "name": "stdout",
     "output_type": "stream",
     "text": [
      "1\n",
      "2\n",
      "3\n",
      "4\n",
      "5\n"
     ]
    }
   ],
   "source": [
    "#Loop is used to repeat the given value automatically without writting it repeatedly        \n",
    "for i in range(1,6):\n",
    "    print(i)\n"
   ]
  },
  {
   "cell_type": "code",
   "execution_count": 2,
   "id": "623e3d44-b2b4-4bf8-b84a-d188f34301c6",
   "metadata": {},
   "outputs": [
    {
     "name": "stdout",
     "output_type": "stream",
     "text": [
      "1\n",
      "2\n",
      "3\n"
     ]
    }
   ],
   "source": [
    "#While loop is used to  create a loop that repeatedly executes a block of code as long as a specified condition remains True\n",
    "number= 1 \n",
    "(number<=3)\n",
    "while number <= 3:\n",
    "    print(number)\n",
    "    number += 1\n"
   ]
  },
  {
   "cell_type": "code",
   "execution_count": 5,
   "id": "7b417670-6895-44f0-807d-9d01a81904ed",
   "metadata": {},
   "outputs": [
    {
     "name": "stdout",
     "output_type": "stream",
     "text": [
      "1\n",
      "2\n",
      "3\n",
      "4\n",
      "5\n",
      "6\n"
     ]
    }
   ],
   "source": [
    "#break Statement\n",
    "for i in range(1,10):\n",
    "    if i == 7:\n",
    "       break\n",
    "    print(i)"
   ]
  },
  {
   "cell_type": "code",
   "execution_count": 15,
   "id": "9ce7e393-300e-4d6f-81cc-c5db20cf6a92",
   "metadata": {},
   "outputs": [
    {
     "name": "stdout",
     "output_type": "stream",
     "text": [
      "1\n",
      "4\n"
     ]
    }
   ],
   "source": [
    "for i in range(1,6,3):\n",
    "    print(i)"
   ]
  },
  {
   "cell_type": "code",
   "execution_count": 2,
   "id": "22eb4800-6580-4509-bc38-f088f67f322f",
   "metadata": {},
   "outputs": [
    {
     "data": {
      "text/plain": [
       "'Pytho'"
      ]
     },
     "execution_count": 2,
     "metadata": {},
     "output_type": "execute_result"
    }
   ],
   "source": [
    "a=(\"Python\")\n",
    "a[0:5]\n"
   ]
  },
  {
   "cell_type": "code",
   "execution_count": 6,
   "id": "aa467ad5-6353-4da3-bdbf-55fde45d0e78",
   "metadata": {},
   "outputs": [
    {
     "data": {
      "text/plain": [
       "(3, 125, 27)"
      ]
     },
     "execution_count": 6,
     "metadata": {},
     "output_type": "execute_result"
    }
   ],
   "source": [
    "1*3,5**3,3**3"
   ]
  },
  {
   "cell_type": "code",
   "execution_count": 7,
   "id": "f3208aa3-a2c8-425b-89b7-41cfd0e76e3f",
   "metadata": {},
   "outputs": [
    {
     "data": {
      "text/plain": [
       "155"
      ]
     },
     "execution_count": 7,
     "metadata": {},
     "output_type": "execute_result"
    }
   ],
   "source": [
    "3+125+27\n"
   ]
  },
  {
   "cell_type": "code",
   "execution_count": null,
   "id": "6fb3807a-147b-40a1-898e-c548743a6713",
   "metadata": {},
   "outputs": [],
   "source": [
    "\n",
    "    "
   ]
  },
  {
   "cell_type": "code",
   "execution_count": 2,
   "id": "4cb12134-fedd-4b3b-a1ae-7fc02075d996",
   "metadata": {},
   "outputs": [],
   "source": [
    "import turtle as r"
   ]
  },
  {
   "cell_type": "code",
   "execution_count": null,
   "id": "90d6eaea-0c89-434a-a112-7d695e182001",
   "metadata": {},
   "outputs": [],
   "source": []
  },
  {
   "cell_type": "code",
   "execution_count": null,
   "id": "9b522be8-3d63-4a59-90ca-127da1846465",
   "metadata": {},
   "outputs": [],
   "source": []
  }
 ],
 "metadata": {
  "kernelspec": {
   "display_name": "Python 3 (ipykernel)",
   "language": "python",
   "name": "python3"
  },
  "language_info": {
   "codemirror_mode": {
    "name": "ipython",
    "version": 3
   },
   "file_extension": ".py",
   "mimetype": "text/x-python",
   "name": "python",
   "nbconvert_exporter": "python",
   "pygments_lexer": "ipython3",
   "version": "3.12.5"
  }
 },
 "nbformat": 4,
 "nbformat_minor": 5
}
